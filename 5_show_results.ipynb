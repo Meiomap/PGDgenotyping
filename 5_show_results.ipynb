{
 "cells": [
  {
   "cell_type": "code",
   "execution_count": 5,
   "id": "c1f16be1-eee8-45d6-9e5b-23cb7fd5400d",
   "metadata": {},
   "outputs": [
    {
     "name": "stdout",
     "output_type": "stream",
     "text": [
      "name\n",
      "MLP    0.960554\n",
      "RF     0.953510\n",
      "XGB    0.934517\n",
      "Name: roc_auc, dtype: float64\n",
      "name\n",
      "MLP    0.015487\n",
      "RF     0.012838\n",
      "XGB    0.045625\n",
      "Name: roc_auc, dtype: float64\n"
     ]
    }
   ],
   "source": [
    "import pandas as pd\n",
    "\n",
    "\n",
    "df=pd.read_csv('CV9_non_overlapping_folds_test.csv',index_col=False)\n",
    "\n",
    "\n",
    "#print(df.head())\n",
    "print(df.groupby('name')['roc_auc'].mean())\n",
    "print(df.groupby('name')['roc_auc'].std())"
   ]
  },
  {
   "cell_type": "code",
   "execution_count": null,
   "id": "b34dbce3-3aad-4d93-91af-12d54a03bdd3",
   "metadata": {},
   "outputs": [],
   "source": []
  }
 ],
 "metadata": {
  "kernelspec": {
   "display_name": "Python 3",
   "language": "python",
   "name": "python3"
  },
  "language_info": {
   "codemirror_mode": {
    "name": "ipython",
    "version": 3
   },
   "file_extension": ".py",
   "mimetype": "text/x-python",
   "name": "python",
   "nbconvert_exporter": "python",
   "pygments_lexer": "ipython3",
   "version": "3.6.8"
  }
 },
 "nbformat": 4,
 "nbformat_minor": 5
}
